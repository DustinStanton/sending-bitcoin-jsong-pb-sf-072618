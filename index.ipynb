{
 "cells": [
  {
   "cell_type": "markdown",
   "metadata": {},
   "source": [
    "# Sending Bitcoin!\n",
    "\n",
    "#### Send 0.04 TBTC to this address `muvpVznkBtk8rRSxLRVQRdUhsMjS7aKRne`\n",
    "\n",
    "#### Go here to send your transaction: https://testnet.blockexplorer.com/tx/send or https://live.blockcypher.com/btc-testnet/pushtx/"
   ]
  },
  {
   "cell_type": "code",
   "execution_count": 6,
   "metadata": {},
   "outputs": [
    {
     "ename": "RuntimeError",
     "evalue": "got from server: {\"status\":404,\"url\":\"/api/rawtx/\",\"error\":\"Not found\"}",
     "output_type": "error",
     "traceback": [
      "\u001b[0;31m\u001b[0m",
      "\u001b[0;31mRuntimeError\u001b[0mTraceback (most recent call last)",
      "\u001b[0;32m~/sending-bitcoin-jsong-pb-sf-072618/tx.py\u001b[0m in \u001b[0;36mfetch_tx\u001b[0;34m(self, testnet)\u001b[0m\n\u001b[1;32m    233\u001b[0m                 \u001b[0;32mif\u001b[0m \u001b[0;34m'rawtx'\u001b[0m \u001b[0;32mnot\u001b[0m \u001b[0;32min\u001b[0m \u001b[0mjs_response\u001b[0m\u001b[0;34m:\u001b[0m\u001b[0;34m\u001b[0m\u001b[0m\n\u001b[0;32m--> 234\u001b[0;31m                     \u001b[0;32mraise\u001b[0m \u001b[0mRuntimeError\u001b[0m\u001b[0;34m(\u001b[0m\u001b[0;34m'got from server: {}'\u001b[0m\u001b[0;34m.\u001b[0m\u001b[0mformat\u001b[0m\u001b[0;34m(\u001b[0m\u001b[0mjs_response\u001b[0m\u001b[0;34m)\u001b[0m\u001b[0;34m)\u001b[0m\u001b[0;34m\u001b[0m\u001b[0m\n\u001b[0m\u001b[1;32m    235\u001b[0m             \u001b[0;32mexcept\u001b[0m\u001b[0;34m:\u001b[0m\u001b[0;34m\u001b[0m\u001b[0m\n",
      "\u001b[0;31mRuntimeError\u001b[0m: got from server: {'status': 404, 'url': '/api/rawtx/', 'error': 'Not found'}",
      "\nDuring handling of the above exception, another exception occurred:\n",
      "\u001b[0;31mRuntimeError\u001b[0mTraceback (most recent call last)",
      "\u001b[0;32m<ipython-input-6-1cfd9c27b50f>\u001b[0m in \u001b[0;36m<module>\u001b[0;34m()\u001b[0m\n\u001b[1;32m     48\u001b[0m \u001b[0;34m\u001b[0m\u001b[0m\n\u001b[1;32m     49\u001b[0m \u001b[0;31m# sign both inputs with the private key using SIGHASH_ALL using sign_input\u001b[0m\u001b[0;34m\u001b[0m\u001b[0;34m\u001b[0m\u001b[0m\n\u001b[0;32m---> 50\u001b[0;31m \u001b[0mtx_obj\u001b[0m\u001b[0;34m.\u001b[0m\u001b[0msign_input\u001b[0m\u001b[0;34m(\u001b[0m\u001b[0;36m0\u001b[0m\u001b[0;34m,\u001b[0m \u001b[0mpriv\u001b[0m\u001b[0;34m,\u001b[0m \u001b[0mSIGHASH_ALL\u001b[0m\u001b[0;34m)\u001b[0m\u001b[0;34m\u001b[0m\u001b[0m\n\u001b[0m\u001b[1;32m     51\u001b[0m \u001b[0mtx_obj\u001b[0m\u001b[0;34m.\u001b[0m\u001b[0msign_input\u001b[0m\u001b[0;34m(\u001b[0m\u001b[0;36m1\u001b[0m\u001b[0;34m,\u001b[0m \u001b[0mpriv\u001b[0m\u001b[0;34m,\u001b[0m \u001b[0mSIGHASH_ALL\u001b[0m\u001b[0;34m)\u001b[0m\u001b[0;34m\u001b[0m\u001b[0m\n\u001b[1;32m     52\u001b[0m \u001b[0;34m\u001b[0m\u001b[0m\n",
      "\u001b[0;32m~/sending-bitcoin-jsong-pb-sf-072618/tx.py\u001b[0m in \u001b[0;36msign_input\u001b[0;34m(self, input_index, private_key, hash_type)\u001b[0m\n\u001b[1;32m    152\u001b[0m         \u001b[0;34m'''Signs the input using the private key'''\u001b[0m\u001b[0;34m\u001b[0m\u001b[0m\n\u001b[1;32m    153\u001b[0m         \u001b[0;31m# get the hash to sign\u001b[0m\u001b[0;34m\u001b[0m\u001b[0;34m\u001b[0m\u001b[0m\n\u001b[0;32m--> 154\u001b[0;31m         \u001b[0mz\u001b[0m \u001b[0;34m=\u001b[0m \u001b[0mself\u001b[0m\u001b[0;34m.\u001b[0m\u001b[0msig_hash\u001b[0m\u001b[0;34m(\u001b[0m\u001b[0minput_index\u001b[0m\u001b[0;34m,\u001b[0m \u001b[0mhash_type\u001b[0m\u001b[0;34m)\u001b[0m\u001b[0;34m\u001b[0m\u001b[0m\n\u001b[0m\u001b[1;32m    155\u001b[0m         \u001b[0;31m# get der signature of z from private key\u001b[0m\u001b[0;34m\u001b[0m\u001b[0;34m\u001b[0m\u001b[0m\n\u001b[1;32m    156\u001b[0m         \u001b[0mder\u001b[0m \u001b[0;34m=\u001b[0m \u001b[0mprivate_key\u001b[0m\u001b[0;34m.\u001b[0m\u001b[0msign\u001b[0m\u001b[0;34m(\u001b[0m\u001b[0mz\u001b[0m\u001b[0;34m)\u001b[0m\u001b[0;34m.\u001b[0m\u001b[0mder\u001b[0m\u001b[0;34m(\u001b[0m\u001b[0;34m)\u001b[0m\u001b[0;34m\u001b[0m\u001b[0m\n",
      "\u001b[0;32m~/sending-bitcoin-jsong-pb-sf-072618/tx.py\u001b[0m in \u001b[0;36msig_hash\u001b[0;34m(self, input_index, hash_type)\u001b[0m\n\u001b[1;32m    118\u001b[0m         \u001b[0msigning_input\u001b[0m \u001b[0;34m=\u001b[0m \u001b[0malt_tx_ins\u001b[0m\u001b[0;34m[\u001b[0m\u001b[0minput_index\u001b[0m\u001b[0;34m]\u001b[0m\u001b[0;34m\u001b[0m\u001b[0m\n\u001b[1;32m    119\u001b[0m         \u001b[0;31m# grab the script_pubkey of the input\u001b[0m\u001b[0;34m\u001b[0m\u001b[0;34m\u001b[0m\u001b[0m\n\u001b[0;32m--> 120\u001b[0;31m         \u001b[0mscript_pubkey\u001b[0m \u001b[0;34m=\u001b[0m \u001b[0msigning_input\u001b[0m\u001b[0;34m.\u001b[0m\u001b[0mscript_pubkey\u001b[0m\u001b[0;34m(\u001b[0m\u001b[0mself\u001b[0m\u001b[0;34m.\u001b[0m\u001b[0mtestnet\u001b[0m\u001b[0;34m)\u001b[0m\u001b[0;34m\u001b[0m\u001b[0m\n\u001b[0m\u001b[1;32m    121\u001b[0m         \u001b[0;31m# the script_sig of the signing_input should be script_pubkey\u001b[0m\u001b[0;34m\u001b[0m\u001b[0;34m\u001b[0m\u001b[0m\n\u001b[1;32m    122\u001b[0m         \u001b[0msigning_input\u001b[0m\u001b[0;34m.\u001b[0m\u001b[0mscript_sig\u001b[0m \u001b[0;34m=\u001b[0m \u001b[0mscript_pubkey\u001b[0m\u001b[0;34m\u001b[0m\u001b[0m\n",
      "\u001b[0;32m~/sending-bitcoin-jsong-pb-sf-072618/tx.py\u001b[0m in \u001b[0;36mscript_pubkey\u001b[0;34m(self, testnet)\u001b[0m\n\u001b[1;32m    256\u001b[0m         '''\n\u001b[1;32m    257\u001b[0m         \u001b[0;31m# use self.fetch_tx to get the transaction\u001b[0m\u001b[0;34m\u001b[0m\u001b[0;34m\u001b[0m\u001b[0m\n\u001b[0;32m--> 258\u001b[0;31m         \u001b[0mtx\u001b[0m \u001b[0;34m=\u001b[0m \u001b[0mself\u001b[0m\u001b[0;34m.\u001b[0m\u001b[0mfetch_tx\u001b[0m\u001b[0;34m(\u001b[0m\u001b[0mtestnet\u001b[0m\u001b[0;34m=\u001b[0m\u001b[0mtestnet\u001b[0m\u001b[0;34m)\u001b[0m\u001b[0;34m\u001b[0m\u001b[0m\n\u001b[0m\u001b[1;32m    259\u001b[0m         \u001b[0;31m# get the output at self.prev_index\u001b[0m\u001b[0;34m\u001b[0m\u001b[0;34m\u001b[0m\u001b[0m\n\u001b[1;32m    260\u001b[0m         \u001b[0;31m# return the script_pubkey property and serialize\u001b[0m\u001b[0;34m\u001b[0m\u001b[0;34m\u001b[0m\u001b[0m\n",
      "\u001b[0;32m~/sending-bitcoin-jsong-pb-sf-072618/tx.py\u001b[0m in \u001b[0;36mfetch_tx\u001b[0;34m(self, testnet)\u001b[0m\n\u001b[1;32m    234\u001b[0m                     \u001b[0;32mraise\u001b[0m \u001b[0mRuntimeError\u001b[0m\u001b[0;34m(\u001b[0m\u001b[0;34m'got from server: {}'\u001b[0m\u001b[0;34m.\u001b[0m\u001b[0mformat\u001b[0m\u001b[0;34m(\u001b[0m\u001b[0mjs_response\u001b[0m\u001b[0;34m)\u001b[0m\u001b[0;34m)\u001b[0m\u001b[0;34m\u001b[0m\u001b[0m\n\u001b[1;32m    235\u001b[0m             \u001b[0;32mexcept\u001b[0m\u001b[0;34m:\u001b[0m\u001b[0;34m\u001b[0m\u001b[0m\n\u001b[0;32m--> 236\u001b[0;31m                 \u001b[0;32mraise\u001b[0m \u001b[0mRuntimeError\u001b[0m\u001b[0;34m(\u001b[0m\u001b[0;34m'got from server: {}'\u001b[0m\u001b[0;34m.\u001b[0m\u001b[0mformat\u001b[0m\u001b[0;34m(\u001b[0m\u001b[0mresponse\u001b[0m\u001b[0;34m.\u001b[0m\u001b[0mtext\u001b[0m\u001b[0;34m)\u001b[0m\u001b[0;34m)\u001b[0m\u001b[0;34m\u001b[0m\u001b[0m\n\u001b[0m\u001b[1;32m    237\u001b[0m             \u001b[0mraw\u001b[0m \u001b[0;34m=\u001b[0m \u001b[0mbytes\u001b[0m\u001b[0;34m.\u001b[0m\u001b[0mfromhex\u001b[0m\u001b[0;34m(\u001b[0m\u001b[0mjs_response\u001b[0m\u001b[0;34m[\u001b[0m\u001b[0;34m'rawtx'\u001b[0m\u001b[0;34m]\u001b[0m\u001b[0;34m)\u001b[0m\u001b[0;34m\u001b[0m\u001b[0m\n\u001b[1;32m    238\u001b[0m             \u001b[0mstream\u001b[0m \u001b[0;34m=\u001b[0m \u001b[0mBytesIO\u001b[0m\u001b[0;34m(\u001b[0m\u001b[0mraw\u001b[0m\u001b[0;34m)\u001b[0m\u001b[0;34m\u001b[0m\u001b[0m\n",
      "\u001b[0;31mRuntimeError\u001b[0m: got from server: {\"status\":404,\"url\":\"/api/rawtx/\",\"error\":\"Not found\"}"
     ]
    }
   ],
   "source": [
    "from ecc import PrivateKey\n",
    "from helper import decode_base58, p2pkh_script, SIGHASH_ALL\n",
    "from script import Script\n",
    "from tx import TxIn, TxOut, Tx\n",
    "\n",
    "prev_tx = bytes.fromhex('c12fbdbe2264fe38c171645db984772dc931bdb020fc62ef25af3049f6f87c06')\n",
    "prev_index = 5\n",
    "target_address = 'muvpVznkBtk8rRSxLRVQRdUhsMjS7aKRne'\n",
    "target_amount = 0.04\n",
    "change_address = 'mqvk3v8aToY4E1ic9N7spJv7sSbfMmpPvg'\n",
    "change_amount = 0.05\n",
    "secret = 26323784683872452632378468387245\n",
    "priv = PrivateKey(secret=secret)\n",
    "\n",
    "\n"
   ]
  },
  {
   "cell_type": "markdown",
   "metadata": {},
   "source": [
    "### Bonus:\n",
    "\n",
    "Get some testnet coins and spend both outputs (one from your change address and one from the testnet faucet) to `muvpVznkBtk8rRSxLRVQRdUhsMjS7aKRne`\n",
    "\n",
    "#### You can get some free testnet coins at: https://testnet.coinfaucet.eu/en/"
   ]
  },
  {
   "cell_type": "code",
   "execution_count": 5,
   "metadata": {
    "scrolled": true
   },
   "outputs": [
    {
     "ename": "RuntimeError",
     "evalue": "Output is not something you can spend with this private key. Check that the prev_tx and prev_index are correct",
     "output_type": "error",
     "traceback": [
      "\u001b[0;31m\u001b[0m",
      "\u001b[0;31mRuntimeError\u001b[0mTraceback (most recent call last)",
      "\u001b[0;32m<ipython-input-5-032fe5a5ddaf>\u001b[0m in \u001b[0;36m<module>\u001b[0;34m()\u001b[0m\n\u001b[1;32m     31\u001b[0m \u001b[0;31m# SANITY CHECK: output's script_pubkey is the same one as your address\u001b[0m\u001b[0;34m\u001b[0m\u001b[0;34m\u001b[0m\u001b[0m\n\u001b[1;32m     32\u001b[0m \u001b[0;32mif\u001b[0m \u001b[0mtx_ins\u001b[0m\u001b[0;34m[\u001b[0m\u001b[0;36m0\u001b[0m\u001b[0;34m]\u001b[0m\u001b[0;34m.\u001b[0m\u001b[0mscript_pubkey\u001b[0m\u001b[0;34m(\u001b[0m\u001b[0mtestnet\u001b[0m\u001b[0;34m=\u001b[0m\u001b[0;32mTrue\u001b[0m\u001b[0;34m)\u001b[0m\u001b[0;34m.\u001b[0m\u001b[0melements\u001b[0m\u001b[0;34m[\u001b[0m\u001b[0;36m2\u001b[0m\u001b[0;34m]\u001b[0m \u001b[0;34m!=\u001b[0m \u001b[0mdecode_base58\u001b[0m\u001b[0;34m(\u001b[0m\u001b[0mpriv\u001b[0m\u001b[0;34m.\u001b[0m\u001b[0mpoint\u001b[0m\u001b[0;34m.\u001b[0m\u001b[0maddress\u001b[0m\u001b[0;34m(\u001b[0m\u001b[0mtestnet\u001b[0m\u001b[0;34m=\u001b[0m\u001b[0;32mTrue\u001b[0m\u001b[0;34m)\u001b[0m\u001b[0;34m)\u001b[0m\u001b[0;34m:\u001b[0m\u001b[0;34m\u001b[0m\u001b[0m\n\u001b[0;32m---> 33\u001b[0;31m     \u001b[0;32mraise\u001b[0m \u001b[0mRuntimeError\u001b[0m\u001b[0;34m(\u001b[0m\u001b[0;34m'Output is not something you can spend with this private key. Check that the prev_tx and prev_index are correct'\u001b[0m\u001b[0;34m)\u001b[0m\u001b[0;34m\u001b[0m\u001b[0m\n\u001b[0m\u001b[1;32m     34\u001b[0m \u001b[0;34m\u001b[0m\u001b[0m\n\u001b[1;32m     35\u001b[0m \u001b[0;31m# SANITY CHECK: fee is reasonable\u001b[0m\u001b[0;34m\u001b[0m\u001b[0;34m\u001b[0m\u001b[0m\n",
      "\u001b[0;31mRuntimeError\u001b[0m: Output is not something you can spend with this private key. Check that the prev_tx and prev_index are correct"
     ]
    }
   ],
   "source": [
    "# Bonus\n",
    "\n",
    "from ecc import PrivateKey\n",
    "from helper import decode_base58, p2pkh_script, SIGHASH_ALL\n",
    "from script import Script\n",
    "from tx import TxIn, TxOut, Tx\n",
    "\n",
    "prev_tx_1 = bytes.fromhex('')\n",
    "prev_index_1 = -1\n",
    "prev_tx_2 = bytes.fromhex('')\n",
    "prev_index_2 = -1\n",
    "target_address = 'muvpVznkBtk8rRSxLRVQRdUhsMjS7aKRne'\n",
    "target_amount = -1\n",
    "secret = 1800555555518005555555\n",
    "priv = PrivateKey(secret=secret)\n",
    "\n",
    "# initialize inputs\n",
    "# create the first tx input with prev_tx_1, prev_index_1, blank script_sig and max sequence\n",
    "# create the second tx input with prev_tx_2, prev_index_2, blank script_sig and max sequence\n",
    "\n",
    "# initialize outputs\n",
    "# decode the hash160 from the target address\n",
    "# convert hash160 to p2pkh script\n",
    "# convert target amount to satoshis (multiply by 100 million)\n",
    "# create a single tx output for target with amount and script_pubkey\n",
    "\n",
    "# create the transaction\n",
    "\n",
    "# sign both inputs with the private key using SIGHASH_ALL using sign_input\n",
    "\n",
    "# SANITY CHECK: output's script_pubkey is the same one as your address\n",
    "if tx_ins[0].script_pubkey(testnet=True).elements[2] != decode_base58(priv.point.address(testnet=True)):\n",
    "    raise RuntimeError('Output is not something you can spend with this private key. Check that the prev_tx and prev_index are correct')\n",
    "\n",
    "# SANITY CHECK: fee is reasonable\n",
    "if tx_obj.fee(testnet=True) > 0.05*100000000 or tx_obj.fee(testnet=True) <= 0:\n",
    "    raise RuntimeError('Check that the change amount is reasonable. Fee is {}'.format(tx_obj.fee()))"
   ]
  },
  {
   "cell_type": "code",
   "execution_count": null,
   "metadata": {},
   "outputs": [],
   "source": []
  }
 ],
 "metadata": {
  "kernelspec": {
   "display_name": "Python 3",
   "language": "python",
   "name": "python3"
  },
  "language_info": {
   "codemirror_mode": {
    "name": "ipython",
    "version": 3
   },
   "file_extension": ".py",
   "mimetype": "text/x-python",
   "name": "python",
   "nbconvert_exporter": "python",
   "pygments_lexer": "ipython3",
   "version": "3.6.4"
  }
 },
 "nbformat": 4,
 "nbformat_minor": 2
}
